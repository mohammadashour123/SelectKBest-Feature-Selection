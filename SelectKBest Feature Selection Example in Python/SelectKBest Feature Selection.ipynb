{
 "cells": [
  {
   "cell_type": "markdown",
   "id": "e7b8768c",
   "metadata": {},
   "source": [
    "   ###  Scikit-learn API provides SelectKBest class for extracting best features of given dataset. \n",
    "     The SelectKBest method selects the features according to the k highest score. By changing the 'score_func' parameter we can apply the method for both classification and regression data. Selecting best features is important process when we prepare a large dataset for training. It helps us to eliminate less important part of the data and reduce a training time.\n",
    "\n"
   ]
  },
  {
   "cell_type": "markdown",
   "id": "5d043423",
   "metadata": {},
   "source": [
    "##    We'll start by loading the required libraries and functions.\n"
   ]
  },
  {
   "cell_type": "code",
   "execution_count": 1,
   "id": "988bda38",
   "metadata": {},
   "outputs": [],
   "source": [
    "from sklearn.feature_selection import SelectKBest\n",
    "from sklearn.feature_selection import chi2, f_regression\n",
    "from sklearn.datasets import load_boston\n",
    "from sklearn.datasets import load_iris\n",
    "from numpy import array "
   ]
  },
  {
   "cell_type": "markdown",
   "id": "69b7c126",
   "metadata": {},
   "source": [
    "## SelectKBest for classification\n"
   ]
  },
  {
   "cell_type": "code",
   "execution_count": 16,
   "id": "2211dbc7",
   "metadata": {},
   "outputs": [],
   "source": [
    "##    First, we'll apply the SelectKBest model to classification data, Iris dataset. \n",
    "## We'll load the dataset and check the feature data dimension. \n",
    "## The 'data' property of the iris object is considered feature data. \n"
   ]
  },
  {
   "cell_type": "code",
   "execution_count": 2,
   "id": "117d3329",
   "metadata": {},
   "outputs": [
    {
     "name": "stdout",
     "output_type": "stream",
     "text": [
      "Feature data dimension:  (150, 4)\n"
     ]
    }
   ],
   "source": [
    "iris = load_iris()\n",
    "x = iris.data\n",
    "y = iris.target\n",
    " \n",
    "print(\"Feature data dimension: \", x.shape) \n"
   ]
  },
  {
   "cell_type": "code",
   "execution_count": 17,
   "id": "71a3f6cc",
   "metadata": {},
   "outputs": [],
   "source": [
    "## Next, we'll define the model by using SelectKBest class.\n",
    "## For classification we'll set 'chi2'  method as a scoring function. \n",
    "## The target number of features is defined by k parameter.\n",
    "## Then we'll fit and transform method on training x and y data."
   ]
  },
  {
   "cell_type": "code",
   "execution_count": 3,
   "id": "c36535f5",
   "metadata": {},
   "outputs": [
    {
     "name": "stdout",
     "output_type": "stream",
     "text": [
      "After selecting best 3 features: (150, 3)\n"
     ]
    }
   ],
   "source": [
    "select = SelectKBest(score_func=chi2, k=3)\n",
    "z = select.fit_transform(x,y)\n",
    " \n",
    "print(\"After selecting best 3 features:\", z.shape) \n",
    " "
   ]
  },
  {
   "cell_type": "code",
   "execution_count": 4,
   "id": "ba531bb8",
   "metadata": {},
   "outputs": [],
   "source": [
    "## We've selected 3 best features in x data. "
   ]
  },
  {
   "cell_type": "code",
   "execution_count": 5,
   "id": "4340b91c",
   "metadata": {},
   "outputs": [],
   "source": [
    "## To identify the selected features we use get_support() function and filter out them from the features name list.  "
   ]
  },
  {
   "cell_type": "code",
   "execution_count": 8,
   "id": "2deecb79",
   "metadata": {},
   "outputs": [
    {
     "name": "stdout",
     "output_type": "stream",
     "text": [
      "All features:\n",
      "['sepal length (cm)' 'sepal width (cm)' 'petal length (cm)'\n",
      " 'petal width (cm)']\n",
      "Selected best 3:\n",
      "['sepal length (cm)' 'petal length (cm)' 'petal width (cm)']\n"
     ]
    }
   ],
   "source": [
    "filter = select.get_support()\n",
    "features = array(iris.feature_names)\n",
    " \n",
    "print(\"All features:\")\n",
    "print(features)\n",
    "\n",
    "print(\"Selected best 3:\")\n",
    "print(features[filter])"
   ]
  },
  {
   "cell_type": "code",
   "execution_count": 9,
   "id": "20ce09f3",
   "metadata": {},
   "outputs": [
    {
     "name": "stdout",
     "output_type": "stream",
     "text": [
      "[[5.1 1.4 0.2]\n",
      " [4.9 1.4 0.2]\n",
      " [4.7 1.3 0.2]\n",
      " [4.6 1.5 0.2]\n",
      " [5.  1.4 0.2]\n",
      " [5.4 1.7 0.4]\n",
      " [4.6 1.4 0.3]\n",
      " [5.  1.5 0.2]\n",
      " [4.4 1.4 0.2]\n",
      " [4.9 1.5 0.1]\n",
      " [5.4 1.5 0.2]\n",
      " [4.8 1.6 0.2]\n",
      " [4.8 1.4 0.1]\n",
      " [4.3 1.1 0.1]\n",
      " [5.8 1.2 0.2]\n",
      " [5.7 1.5 0.4]\n",
      " [5.4 1.3 0.4]\n",
      " [5.1 1.4 0.3]\n",
      " [5.7 1.7 0.3]\n",
      " [5.1 1.5 0.3]\n",
      " [5.4 1.7 0.2]\n",
      " [5.1 1.5 0.4]\n",
      " [4.6 1.  0.2]\n",
      " [5.1 1.7 0.5]\n",
      " [4.8 1.9 0.2]\n",
      " [5.  1.6 0.2]\n",
      " [5.  1.6 0.4]\n",
      " [5.2 1.5 0.2]\n",
      " [5.2 1.4 0.2]\n",
      " [4.7 1.6 0.2]\n",
      " [4.8 1.6 0.2]\n",
      " [5.4 1.5 0.4]\n",
      " [5.2 1.5 0.1]\n",
      " [5.5 1.4 0.2]\n",
      " [4.9 1.5 0.2]\n",
      " [5.  1.2 0.2]\n",
      " [5.5 1.3 0.2]\n",
      " [4.9 1.4 0.1]\n",
      " [4.4 1.3 0.2]\n",
      " [5.1 1.5 0.2]\n",
      " [5.  1.3 0.3]\n",
      " [4.5 1.3 0.3]\n",
      " [4.4 1.3 0.2]\n",
      " [5.  1.6 0.6]\n",
      " [5.1 1.9 0.4]\n",
      " [4.8 1.4 0.3]\n",
      " [5.1 1.6 0.2]\n",
      " [4.6 1.4 0.2]\n",
      " [5.3 1.5 0.2]\n",
      " [5.  1.4 0.2]\n",
      " [7.  4.7 1.4]\n",
      " [6.4 4.5 1.5]\n",
      " [6.9 4.9 1.5]\n",
      " [5.5 4.  1.3]\n",
      " [6.5 4.6 1.5]\n",
      " [5.7 4.5 1.3]\n",
      " [6.3 4.7 1.6]\n",
      " [4.9 3.3 1. ]\n",
      " [6.6 4.6 1.3]\n",
      " [5.2 3.9 1.4]\n",
      " [5.  3.5 1. ]\n",
      " [5.9 4.2 1.5]\n",
      " [6.  4.  1. ]\n",
      " [6.1 4.7 1.4]\n",
      " [5.6 3.6 1.3]\n",
      " [6.7 4.4 1.4]\n",
      " [5.6 4.5 1.5]\n",
      " [5.8 4.1 1. ]\n",
      " [6.2 4.5 1.5]\n",
      " [5.6 3.9 1.1]\n",
      " [5.9 4.8 1.8]\n",
      " [6.1 4.  1.3]\n",
      " [6.3 4.9 1.5]\n",
      " [6.1 4.7 1.2]\n",
      " [6.4 4.3 1.3]\n",
      " [6.6 4.4 1.4]\n",
      " [6.8 4.8 1.4]\n",
      " [6.7 5.  1.7]\n",
      " [6.  4.5 1.5]\n",
      " [5.7 3.5 1. ]\n",
      " [5.5 3.8 1.1]\n",
      " [5.5 3.7 1. ]\n",
      " [5.8 3.9 1.2]\n",
      " [6.  5.1 1.6]\n",
      " [5.4 4.5 1.5]\n",
      " [6.  4.5 1.6]\n",
      " [6.7 4.7 1.5]\n",
      " [6.3 4.4 1.3]\n",
      " [5.6 4.1 1.3]\n",
      " [5.5 4.  1.3]\n",
      " [5.5 4.4 1.2]\n",
      " [6.1 4.6 1.4]\n",
      " [5.8 4.  1.2]\n",
      " [5.  3.3 1. ]\n",
      " [5.6 4.2 1.3]\n",
      " [5.7 4.2 1.2]\n",
      " [5.7 4.2 1.3]\n",
      " [6.2 4.3 1.3]\n",
      " [5.1 3.  1.1]\n",
      " [5.7 4.1 1.3]\n",
      " [6.3 6.  2.5]\n",
      " [5.8 5.1 1.9]\n",
      " [7.1 5.9 2.1]\n",
      " [6.3 5.6 1.8]\n",
      " [6.5 5.8 2.2]\n",
      " [7.6 6.6 2.1]\n",
      " [4.9 4.5 1.7]\n",
      " [7.3 6.3 1.8]\n",
      " [6.7 5.8 1.8]\n",
      " [7.2 6.1 2.5]\n",
      " [6.5 5.1 2. ]\n",
      " [6.4 5.3 1.9]\n",
      " [6.8 5.5 2.1]\n",
      " [5.7 5.  2. ]\n",
      " [5.8 5.1 2.4]\n",
      " [6.4 5.3 2.3]\n",
      " [6.5 5.5 1.8]\n",
      " [7.7 6.7 2.2]\n",
      " [7.7 6.9 2.3]\n",
      " [6.  5.  1.5]\n",
      " [6.9 5.7 2.3]\n",
      " [5.6 4.9 2. ]\n",
      " [7.7 6.7 2. ]\n",
      " [6.3 4.9 1.8]\n",
      " [6.7 5.7 2.1]\n",
      " [7.2 6.  1.8]\n",
      " [6.2 4.8 1.8]\n",
      " [6.1 4.9 1.8]\n",
      " [6.4 5.6 2.1]\n",
      " [7.2 5.8 1.6]\n",
      " [7.4 6.1 1.9]\n",
      " [7.9 6.4 2. ]\n",
      " [6.4 5.6 2.2]\n",
      " [6.3 5.1 1.5]\n",
      " [6.1 5.6 1.4]\n",
      " [7.7 6.1 2.3]\n",
      " [6.3 5.6 2.4]\n",
      " [6.4 5.5 1.8]\n",
      " [6.  4.8 1.8]\n",
      " [6.9 5.4 2.1]\n",
      " [6.7 5.6 2.4]\n",
      " [6.9 5.1 2.3]\n",
      " [5.8 5.1 1.9]\n",
      " [6.8 5.9 2.3]\n",
      " [6.7 5.7 2.5]\n",
      " [6.7 5.2 2.3]\n",
      " [6.3 5.  1.9]\n",
      " [6.5 5.2 2. ]\n",
      " [6.2 5.4 2.3]\n",
      " [5.9 5.1 1.8]]\n"
     ]
    }
   ],
   "source": [
    "print(z)"
   ]
  },
  {
   "cell_type": "code",
   "execution_count": null,
   "id": "95af7a31",
   "metadata": {},
   "outputs": [],
   "source": []
  },
  {
   "cell_type": "markdown",
   "id": "9e7c4bf6",
   "metadata": {},
   "source": [
    "## SelectKBest for regression data\n"
   ]
  },
  {
   "cell_type": "code",
   "execution_count": 19,
   "id": "61f17201",
   "metadata": {},
   "outputs": [],
   "source": [
    "## We apply the same method for regression data only changing scoring function. \n",
    "## We'll load the Boston housing data set and check the feature data dimensions.\n"
   ]
  },
  {
   "cell_type": "code",
   "execution_count": 10,
   "id": "2bc9003c",
   "metadata": {},
   "outputs": [
    {
     "name": "stdout",
     "output_type": "stream",
     "text": [
      "Feature data dimension:  (506, 13)\n"
     ]
    }
   ],
   "source": [
    "boston = load_boston()\n",
    "x = boston.data\n",
    "y = boston.target\n",
    "\n",
    "print(\"Feature data dimension: \", x.shape)\n",
    " "
   ]
  },
  {
   "cell_type": "code",
   "execution_count": 20,
   "id": "01eb0687",
   "metadata": {},
   "outputs": [],
   "source": [
    "## Next, we'll define the model by using SelectKBest class.\n",
    "## For regression, we'll set 'f_regression'  method as a scoring function.\n",
    "## The target number of features to select is 8."
   ]
  },
  {
   "cell_type": "code",
   "execution_count": 11,
   "id": "e1173f30",
   "metadata": {},
   "outputs": [
    {
     "name": "stdout",
     "output_type": "stream",
     "text": [
      "After selecting best 8 features: (506, 8)\n"
     ]
    }
   ],
   "source": [
    "select = SelectKBest(score_func=f_regression, k=8)\n",
    "z = select.fit_transform(x, y) \n",
    " \n",
    "print(\"After selecting best 8 features:\", z.shape) "
   ]
  },
  {
   "cell_type": "code",
   "execution_count": 21,
   "id": "d1b823b7",
   "metadata": {},
   "outputs": [],
   "source": [
    "## To identify the selected features we can use get_support() function and filter out them from the features list. \n",
    "## The z object contains selected x data. "
   ]
  },
  {
   "cell_type": "code",
   "execution_count": 13,
   "id": "0386f805",
   "metadata": {},
   "outputs": [
    {
     "name": "stdout",
     "output_type": "stream",
     "text": [
      "All features:\n",
      "['CRIM' 'ZN' 'INDUS' 'CHAS' 'NOX' 'RM' 'AGE' 'DIS' 'RAD' 'TAX' 'PTRATIO'\n",
      " 'B' 'LSTAT']\n",
      "Selected best 8:\n",
      "['CRIM' 'INDUS' 'NOX' 'RM' 'RAD' 'TAX' 'PTRATIO' 'LSTAT']\n"
     ]
    }
   ],
   "source": [
    "filter = select.get_support()\n",
    "features = array(boston.feature_names)\n",
    " \n",
    "print(\"All features:\")\n",
    "print(features)\n",
    " \n",
    "print(\"Selected best 8:\")\n",
    "print(features[filter])"
   ]
  },
  {
   "cell_type": "code",
   "execution_count": 14,
   "id": "c326ee75",
   "metadata": {},
   "outputs": [
    {
     "name": "stdout",
     "output_type": "stream",
     "text": [
      "[[6.3200e-03 2.3100e+00 5.3800e-01 ... 2.9600e+02 1.5300e+01 4.9800e+00]\n",
      " [2.7310e-02 7.0700e+00 4.6900e-01 ... 2.4200e+02 1.7800e+01 9.1400e+00]\n",
      " [2.7290e-02 7.0700e+00 4.6900e-01 ... 2.4200e+02 1.7800e+01 4.0300e+00]\n",
      " ...\n",
      " [6.0760e-02 1.1930e+01 5.7300e-01 ... 2.7300e+02 2.1000e+01 5.6400e+00]\n",
      " [1.0959e-01 1.1930e+01 5.7300e-01 ... 2.7300e+02 2.1000e+01 6.4800e+00]\n",
      " [4.7410e-02 1.1930e+01 5.7300e-01 ... 2.7300e+02 2.1000e+01 7.8800e+00]]\n"
     ]
    }
   ],
   "source": [
    "print(z) "
   ]
  },
  {
   "cell_type": "code",
   "execution_count": null,
   "id": "a65e9a3c",
   "metadata": {},
   "outputs": [],
   "source": []
  }
 ],
 "metadata": {
  "kernelspec": {
   "display_name": "Python 3",
   "language": "python",
   "name": "python3"
  },
  "language_info": {
   "codemirror_mode": {
    "name": "ipython",
    "version": 3
   },
   "file_extension": ".py",
   "mimetype": "text/x-python",
   "name": "python",
   "nbconvert_exporter": "python",
   "pygments_lexer": "ipython3",
   "version": "3.8.8"
  }
 },
 "nbformat": 4,
 "nbformat_minor": 5
}
